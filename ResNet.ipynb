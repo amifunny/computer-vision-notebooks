{
  "nbformat": 4,
  "nbformat_minor": 0,
  "metadata": {
    "colab": {
      "name": "ResNet.ipynb",
      "provenance": [],
      "collapsed_sections": []
    },
    "kernelspec": {
      "name": "python3",
      "display_name": "Python 3"
    },
    "accelerator": "GPU"
  },
  "cells": [
    {
      "cell_type": "code",
      "metadata": {
        "id": "CfP2XKaPMqx6"
      },
      "source": [
        "%tensorflow_version 2.x\n",
        "import tensorflow as tf\n",
        "import numpy as np\n",
        "import tensorflow_datasets as tfds\n",
        "import matplotlib.pyplot as plt\n"
      ],
      "execution_count": null,
      "outputs": []
    },
    {
      "cell_type": "code",
      "metadata": {
        "id": "LIBeNPn9_voK"
      },
      "source": [
        "raw_data,info = tfds.load('cats_vs_dogs',with_info=True,split=['train[:80%]','train[80%:100%]'])\n",
        "print(info)\n",
        "train_data,test_data = raw_data"
      ],
      "execution_count": null,
      "outputs": []
    },
    {
      "cell_type": "code",
      "metadata": {
        "id": "QqWzg57_IZFs"
      },
      "source": [
        "def process_map(data):\n",
        "\n",
        "    img = tf.cast(data['image'],dtype=tf.float32)/255.0\n",
        "    img = tf.image.resize(img,(100,100))\n",
        "\n",
        "    label = data['label']\n",
        "    return img,label\n",
        "\n",
        "\n",
        "train_data = train_data.shuffle(1000)\n",
        "train_data = train_data.map(process_map)\n",
        "\n",
        "for ele in train_data.take(1):\n",
        "    img = ele[0]\n",
        "    show = plt.imshow(img)\n",
        "    plt.title( \"this is a {}\".format(ele[1]) )\n",
        "    plt.show()\n",
        "\n",
        "train_data = train_data.batch(128)"
      ],
      "execution_count": null,
      "outputs": []
    },
    {
      "cell_type": "code",
      "metadata": {
        "id": "4ZJZijytMxuz"
      },
      "source": [
        "initializer = tf.keras.initializers.he_normal( seed=2 )\n",
        "\n",
        "def ResBlock(Ain,block_num,f_num):\n",
        "\n",
        "    # conv ops\n",
        "    # reconnection after 2 layer\n",
        "\n",
        "    l1 = 'block_{}_layer_1'.format(block_num)\n",
        "    l2 = 'block_{}_layer_2'.format(block_num)\n",
        "\n",
        "    out = tf.keras.layers.Conv2D(f_num,(3,3),padding='SAME',activation='relu',kernel_initializer=initializer,kernel_constraint=tf.keras.constraints.MinMaxNorm(\n",
        "              min_value=-2.0, max_value=2.0, rate=1.0, axis=[0, 1, 2]\n",
        "          ),name=l1)(Ain)\n",
        "    out = tf.keras.layers.Conv2D(f_num,(3,3),padding='SAME',kernel_initializer=initializer,kernel_constraint=tf.keras.constraints.MinMaxNorm(\n",
        "              min_value=-2.0, max_value=2.0, rate=1.0, axis=[0, 1, 2]\n",
        "          ),name=l2)(out)\n",
        "\n",
        "    return out\n",
        "\n",
        "\n",
        "def ResNetfunc(x_batch,num_of_blocks):\n",
        "\n",
        "    out = tf.keras.layers.BatchNormalization()(x_batch)\n",
        "    out = tf.keras.layers.Conv2D(32,(3,3),activation='relu',kernel_initializer=initializer,kernel_constraint=tf.keras.constraints.MinMaxNorm(\n",
        "              min_value=-2.0, max_value=2.0, rate=1.0, axis=[0, 1, 2]\n",
        "          ))(out)\n",
        "    out = tf.keras.layers.MaxPool2D((2,2))(out)\n",
        "\n",
        "    \n",
        "    block_out = ResBlock(out,1,32)\n",
        "    out = block_out + out\n",
        "    out = tf.keras.activations.relu(out)\n",
        "\n",
        "    \n",
        "    block_out = ResBlock(out,2,32)\n",
        "    out = block_out + out\n",
        "    out = tf.keras.activations.relu(out)\n",
        "\n",
        "    out = tf.keras.layers.MaxPool2D((2,2))(out)\n",
        "\n",
        "    out = tf.keras.layers.Conv2D(64,(3,3),activation='relu',padding='SAME',kernel_initializer=initializer,kernel_constraint=tf.keras.constraints.MinMaxNorm(\n",
        "              min_value=-2.0, max_value=2.0, rate=1.0, axis=[0, 1, 2]\n",
        "          ))(out)\n",
        "    out = tf.keras.layers.BatchNormalization()(out)\n",
        "\n",
        "    for i in range(3):\n",
        "      block_out = ResBlock(out,i+3,64)\n",
        "      out = block_out + out\n",
        "      out = tf.keras.activations.relu(out)\n",
        "\n",
        "      if i==1:\n",
        "        out = tf.keras.layers.MaxPool2D((2,2))(out)\n",
        "\n",
        "    out = tf.keras.layers.MaxPool2D((2,2))(out)\n",
        "\n",
        "    return out\n",
        "\n",
        "def DenseNet(res_out):\n",
        "\n",
        "    out = tf.keras.layers.Flatten()(res_out)\n",
        "    out = tf.keras.layers.Dense(32,activation='relu')(out)\n",
        "    out = tf.keras.layers.Dense(16,activation='relu')(out)\n",
        "    out = tf.keras.layers.Dense(1,activation='sigmoid')(out)\n",
        "\n",
        "    return out\n",
        "\n",
        "inputs = tf.keras.layers.Input(shape=(100,100,3),name=\"image_input\")\n",
        "res_out = ResNetfunc(inputs,5)\n",
        "outputs = DenseNet(res_out)\n",
        "model = tf.keras.Model(inputs=inputs,outputs=outputs)\n",
        "print( model.summary() )"
      ],
      "execution_count": null,
      "outputs": []
    },
    {
      "cell_type": "code",
      "metadata": {
        "id": "PpEI15GXUNZs"
      },
      "source": [
        "optimizer = tf.keras.optimizers.Adam(0.05)\n",
        "# cost_func = tf.keras.losses.BinaryCrossentropy()\n",
        "\n",
        "def cost_func(y_batch,pred):\n",
        "\n",
        "    y_batch = tf.cast( tf.expand_dims(y_batch,-1) ,tf.float32)\n",
        "    pred = tf.expand_dims(pred,-1) \n",
        "    \n",
        "    t1 = tf.linalg.matmul( tf.transpose(y_batch) , tf.math.log(pred) )\n",
        "    t2 = tf.linalg.matmul( tf.transpose(1-y_batch) , tf.math.log(1-pred) )\n",
        "    cost = -(t1+t2)\n",
        "    return tf.squeeze(cost)\n",
        "\n",
        "def single_step(x_batch,y_batch):\n",
        "\n",
        "    with tf.GradientTape() as tape:\n",
        "      pred = model(x_batch)\n",
        "      pred = tf.squeeze(pred)\n",
        "      cost = cost_func(y_batch,pred)\n",
        "    \n",
        "    grad = tape.gradient(cost,model.trainable_variables)\n",
        "    optimizer.apply_gradients( zip(grad,model.trainable_variables) )\n",
        "\n",
        "    return pred,grad,cost"
      ],
      "execution_count": null,
      "outputs": []
    },
    {
      "cell_type": "code",
      "metadata": {
        "id": "4tU9CsdXwPWH"
      },
      "source": [
        "checkpoint_path = \"training_resnet/cp-{epoch:04d}.ckpt\""
      ],
      "execution_count": null,
      "outputs": []
    },
    {
      "cell_type": "code",
      "metadata": {
        "id": "-ER1fuQeU-EN"
      },
      "source": [
        "def train_net(dataset,epochs):\n",
        "\n",
        "  loss_mean = tf.keras.metrics.Mean()\n",
        "\n",
        "  for e in range( epochs ):\n",
        "\n",
        "    loss_mean.reset_states()\n",
        "    ctr = 0\n",
        "\n",
        "    for x_batch,y_batch in iter(dataset):\n",
        "\n",
        "      pred,grad,cost = single_step(x_batch,y_batch)\n",
        "      loss_mean.update_state(cost)\n",
        "      # break\n",
        "\n",
        "      if ctr%50==0:\n",
        "          print(\"Step-Loss   ===>  {}\".format( loss_mean.result() ))\n",
        "\n",
        "      ctr = ctr +1\n",
        "\n",
        "    print(\"Epoch :{}:   ----Loss   ===>  {}\".format(e, loss_mean.result() ))\n",
        "    model.save_weights(checkpoint_path.format(epoch=e))\n",
        "\n",
        "  return   "
      ],
      "execution_count": null,
      "outputs": []
    },
    {
      "cell_type": "code",
      "metadata": {
        "id": "KvjQWNKJaUSI"
      },
      "source": [
        "with tf.device('/device:GPU:0'):\n",
        "    train_net(train_data,1),\n",
        "    model.save('resmodel.h5')"
      ],
      "execution_count": null,
      "outputs": []
    },
    {
      "cell_type": "code",
      "metadata": {
        "id": "Egnwp1s4hLdh"
      },
      "source": [
        "model.save('resmodel.h5')\n",
        "from google.colab import files\n",
        "files.download('resmodel.h5')"
      ],
      "execution_count": null,
      "outputs": []
    },
    {
      "cell_type": "code",
      "metadata": {
        "id": "zGavuEos79L_"
      },
      "source": [
        "test_data = test_data.map(process_map)\n",
        "test_data = test_data.batch(64)"
      ],
      "execution_count": null,
      "outputs": []
    },
    {
      "cell_type": "code",
      "metadata": {
        "id": "DQ5Dzy3uhtA3"
      },
      "source": [
        "acc = tf.keras.metrics.Accuracy()\n",
        "mean_acc = tf.keras.metrics.Mean()\n",
        "\n",
        "for x_batch,y_batch in iter(test_data):\n",
        "\n",
        "    pred = model(x_batch)\n",
        "    pred_final = tf.squeeze( tf.cast(pred>0.5,tf.int8) )\n",
        "\n",
        "    _ = acc.update_state(y_batch,pred_final)\n",
        "    mean_acc.update_state(acc.result())\n",
        "\n",
        "print(\"Final Mean Accuracy is ===>  {}\".format(mean_acc.result()))\n"
      ],
      "execution_count": null,
      "outputs": []
    }
  ]
}