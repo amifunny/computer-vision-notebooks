{
  "nbformat": 4,
  "nbformat_minor": 0,
  "metadata": {
    "colab": {
      "name": "YOLO.ipynb",
      "provenance": [],
      "collapsed_sections": []
    },
    "kernelspec": {
      "name": "python3",
      "display_name": "Python 3"
    },
    "accelerator": "GPU"
  },
  "cells": [
    {
      "cell_type": "code",
      "metadata": {
        "id": "iXXUwuP99wtq"
      },
      "source": [
        "import tensorflow as tf\n",
        "import numpy as np\n",
        "import os\n",
        "from matplotlib import *\n",
        "from PIL import Image,ImageDraw\n",
        "from xml.etree import cElementTree as ElementTree\n",
        "from tqdm import tqdm"
      ],
      "execution_count": null,
      "outputs": []
    },
    {
      "cell_type": "code",
      "metadata": {
        "id": "snoZX0ryonBw"
      },
      "source": [
        "!wget 'http://host.robots.ox.ac.uk/pascal/VOC/voc2012/VOCtrainval_11-May-2012.tar'"
      ],
      "execution_count": null,
      "outputs": []
    },
    {
      "cell_type": "code",
      "metadata": {
        "id": "WoxPP-KeOgOt"
      },
      "source": [
        "!tar -xvf VOCtrainval_11-May-2012.tar"
      ],
      "execution_count": null,
      "outputs": []
    },
    {
      "cell_type": "code",
      "metadata": {
        "id": "JwYxkgCdPM3q"
      },
      "source": [
        "offset = 0\n",
        "def data_generator(noi=64):\n",
        "\n",
        "    voc_dir = '/content/VOCdevkit/VOC2012/'\n",
        "   \n",
        "    image_dir = voc_dir+'JPEGImages/'\n",
        "\n",
        "    global offset\n",
        "    img_names = os.listdir( image_dir )[offset:offset+noi]\n",
        "\n",
        "    all_imgs = []\n",
        "\n",
        "    for each_img_file in img_names:\n",
        "\n",
        "      img = Image.open( image_dir+each_img_file )\n",
        "      img_arr = np.array( img.resize((224,224)) )\n",
        "      all_imgs.append( img_arr/255.0 )\n",
        "\n",
        "    # print(img_names)\n",
        "\n",
        "    label_dir = voc_dir+'Annotations/'\n",
        "    all_labels = []\n",
        "\n",
        "    for each_img in img_names: \n",
        "\n",
        "        label_xml= each_img[:-3]+'xml'\n",
        "        \n",
        "        tree = ElementTree.parse(label_dir+label_xml)\n",
        "        root = tree.getroot()\n",
        "\n",
        "        img_objs = []\n",
        "        h = int( (root.find('size')).find('height').text )\n",
        "        w = int( (root.find('size')).find('width').text )\n",
        "\n",
        "        for obj in root.iter('object'):\n",
        "\n",
        "            obj_dict={}\n",
        "\n",
        "            obj_dict['name'] = obj.find('name').text\n",
        "\n",
        "            box = obj.find('bndbox')\n",
        "            obj_dict['x_max'] = int( box.find('xmax').text )/w\n",
        "            obj_dict['x_min'] = int( box.find('xmin').text )/w\n",
        "            obj_dict['y_max'] = int( box.find('ymax').text )/h\n",
        "            obj_dict['y_min'] = int( box.find('ymin').text )/h\n",
        "            \n",
        "            img_objs.append( obj_dict )\n",
        "\n",
        "        all_labels.append( img_objs )\n",
        "\n",
        "    offset=offset+noi    \n",
        "\n",
        "    return all_imgs,all_labels"
      ],
      "execution_count": null,
      "outputs": []
    },
    {
      "cell_type": "code",
      "metadata": {
        "id": "wFQ_7orwwSN0"
      },
      "source": [
        "imgs,labels = data_generator(64)\n",
        "# print( labels[1] )"
      ],
      "execution_count": null,
      "outputs": []
    },
    {
      "cell_type": "code",
      "metadata": {
        "id": "8V0MU0mfqnFj",
        "colab": {
          "base_uri": "https://localhost:8080/",
          "height": 51
        },
        "outputId": "06810ef5-e24a-4227-9a08-ed8f885109e3"
      },
      "source": [
        "print( len(imgs) )\n",
        "print( imgs[0].shape )"
      ],
      "execution_count": null,
      "outputs": [
        {
          "output_type": "stream",
          "text": [
            "64\n",
            "(224, 224, 3)\n"
          ],
          "name": "stdout"
        }
      ]
    },
    {
      "cell_type": "code",
      "metadata": {
        "id": "I-mHO83UtzQJ"
      },
      "source": [
        "# View sample images\n",
        "for i in range( len(imgs[:10]) ):\n",
        "\n",
        "    img_arr = np.array( imgs[i] )\n",
        "    figure, ax = pyplot.subplots(1)\n",
        "\n",
        "    ax.imshow(img_arr)\n",
        "\n",
        "    for ol in labels[i]:\n",
        "\n",
        "      start_x,start_y = ol['x_min']*224,ol['y_min']*224\n",
        "      w = (ol['x_max']*224) - (ol['x_min']*224)\n",
        "      h = (ol['y_max']*224) - (ol['y_min']*224)\n",
        "      rect =  patches.Rectangle((start_x,start_y),w,h, edgecolor='r', facecolor=\"none\")\n",
        "      ax.add_patch(rect)\n",
        "      ax.title.set_text(ol['name'])\n"
      ],
      "execution_count": null,
      "outputs": []
    },
    {
      "cell_type": "code",
      "metadata": {
        "id": "LzcKDFq3GpDQ"
      },
      "source": [
        "class_to_int = {'aeroplane':0,'bicycle':1,'bird':2,'boat':3,'bottle':4,'bus':5,'car':6 ,'cat':7,'chair':8, 'cow':9, 'diningtable':10, 'dog':11, \"horse\":12, 'motorbike':13, 'person':14 , 'pottedplant':15, 'sheep':16 , 'sofa':17 , 'train':18 , 'tvmonitor':19 }\n",
        "\n",
        "def get_feed_label(labels,S=7,noa=1,classes=20):\n",
        "\n",
        "    feed_label = np.zeros( (len(labels),S*S,(classes+(noa*5))) )\n",
        "    \n",
        "    for i,each_label in enumerate(labels):\n",
        "\n",
        "        for each_obj in each_label:\n",
        "          \n",
        "          cx = (each_obj['x_max']+each_obj['x_min'])/2\n",
        "          cy = (each_obj['y_max']+each_obj['y_min'])/2\n",
        "          div = 1.0/S\n",
        "          \n",
        "          row = int(cy/div)\n",
        "          col = int(cx/div)\n",
        "          \n",
        "          j = ( row*S+col-1)\n",
        "\n",
        "\n",
        "          feed_label[i][j][0] = 1\n",
        "          feed_label[i][j][1] = each_obj['x_max']\n",
        "          feed_label[i][j][2] = each_obj['x_min']\n",
        "          feed_label[i][j][3] = each_obj['y_max']\n",
        "          feed_label[i][j][4] = each_obj['y_min']\n",
        "\n",
        "          int_class = class_to_int[ each_obj['name'] ]\n",
        "          feed_label[i][j][int_class+5] = 3\n",
        "\n",
        "    \n",
        "    return feed_label"
      ],
      "execution_count": null,
      "outputs": []
    },
    {
      "cell_type": "code",
      "metadata": {
        "id": "Oou3kTdpHyLO"
      },
      "source": [
        "y_batch = get_feed_label(labels)"
      ],
      "execution_count": null,
      "outputs": []
    },
    {
      "cell_type": "code",
      "metadata": {
        "id": "8xqJRiwQoUmi"
      },
      "source": [
        "y_batch.shape"
      ],
      "execution_count": null,
      "outputs": []
    },
    {
      "cell_type": "code",
      "metadata": {
        "id": "5R-Or5FrnBei"
      },
      "source": [
        "for i in range(0,10):\n",
        "\n",
        "    img_arr = np.array( imgs[i] )\n",
        "    figure, ax = pyplot.subplots(1)\n",
        "\n",
        "    ax.imshow(img_arr)\n",
        "\n",
        "    for ol in y_batch[i]:\n",
        "      \n",
        "      # print(ol)\n",
        "      if ol[0]==1:\n",
        "        start_x,start_y = ol[2]*224,ol[4]*224\n",
        "        w = (ol[1]*224) - (ol[2]*224)\n",
        "        h = (ol[3]*224) - (ol[4]*224)\n",
        "        rect =  patches.Rectangle((start_x,start_y),w,h, edgecolor='r', facecolor=\"none\")\n",
        "        ax.add_patch(rect)\n",
        "        ax.title.set_text( np.argmax(ol[5:]) )\n"
      ],
      "execution_count": null,
      "outputs": []
    },
    {
      "cell_type": "code",
      "metadata": {
        "id": "0Avm7PYCOAOw"
      },
      "source": [
        "resnet = tf.keras.applications.ResNet50(weights=\"imagenet\",include_top=False,input_shape=(224,224,3))\n",
        "resnet.trainable = True\n",
        "resnet.summary()"
      ],
      "execution_count": null,
      "outputs": []
    },
    {
      "cell_type": "code",
      "metadata": {
        "id": "CvaV-XADQ8b2"
      },
      "source": [
        "inputs = tf.keras.layers.Input((224,224,3))\n",
        "# res_out = resnet(inputs)\n",
        "out = tf.keras.layers.Conv2D(128,(3,3),padding='same',activation='relu')(inputs)\n",
        "out = tf.keras.layers.Conv2D(128,(3,3),padding='same',activation='relu')(out)\n",
        "out = tf.keras.layers.MaxPool2D((2,2))(out)\n",
        "\n",
        "out = tf.keras.layers.Conv2D(512,(3,3),padding='same',activation='relu')(out)\n",
        "out = tf.keras.layers.MaxPool2D((2,2))(out)\n",
        "\n",
        "out = tf.keras.layers.Conv2D(512,(3,3),padding='same',activation='relu')(out)\n",
        "out = tf.keras.layers.Conv2D(512,(3,3),padding='same',activation='relu')(out)\n",
        "out = tf.keras.layers.MaxPool2D((2,2))(out)\n",
        "out = tf.keras.layers.Conv2D(1024,(3,3),padding='same',activation='relu')(out)\n",
        "out = tf.keras.layers.MaxPool2D((2,2))(out)\n",
        "\n",
        "out = tf.keras.layers.Conv2D(1024,(3,3),padding='same',activation='relu')(out)\n",
        "\n",
        "flat_out = tf.keras.layers.GlobalAveragePooling2D()(out)\n",
        "dense_out = tf.keras.layers.Dense(1024,activation='relu')(flat_out)\n",
        "outputs = tf.keras.layers.Dense(1225)(dense_out)\n",
        "\n",
        "model = 0\n",
        "model = tf.keras.Model(inputs=inputs,outputs=outputs)\n",
        "model.summary()"
      ],
      "execution_count": null,
      "outputs": []
    },
    {
      "cell_type": "code",
      "metadata": {
        "id": "kkVuPHBQdwZD"
      },
      "source": [
        "model.summary()"
      ],
      "execution_count": null,
      "outputs": []
    },
    {
      "cell_type": "code",
      "metadata": {
        "id": "d-oLMHz8Tbnd"
      },
      "source": [
        "stack_y=[] \n",
        "for i in range(y_batch.shape[0]):\n",
        "  stack_y.append( np.hstack(y_batch[i]) )"
      ],
      "execution_count": null,
      "outputs": []
    },
    {
      "cell_type": "code",
      "metadata": {
        "id": "QcdGuycEUIbt"
      },
      "source": [
        "print( len(stack_y) )\n",
        "print( stack_y[0].shape )"
      ],
      "execution_count": null,
      "outputs": []
    },
    {
      "cell_type": "code",
      "metadata": {
        "id": "idAzXayleF5v"
      },
      "source": [
        "print(imgs[0].shape)"
      ],
      "execution_count": null,
      "outputs": []
    },
    {
      "cell_type": "code",
      "metadata": {
        "id": "fi3HwbALfPH5"
      },
      "source": [
        "print( tf.constant([1,2,3])*tf.constant([3,2,1]) )"
      ],
      "execution_count": null,
      "outputs": []
    },
    {
      "cell_type": "code",
      "metadata": {
        "id": "wC5s1-LvWgTG"
      },
      "source": [
        "# hyperparams\n",
        "epochs = 20\n",
        "l_rate = 0.000005\n",
        "batch_size = 1\n",
        "num_ex = 10\n",
        "num_of_batches = int(num_ex/batch_size)\n",
        "print(num_of_batches)\n",
        "# ******************\n",
        "\n",
        "# cost_fn = tf.keras.losses.MeanSquaredError()\n",
        "\n",
        "def cost_fn(y_batch,pred_1d):\n",
        "\n",
        "    batch_loss = 0.0\n",
        "    grid_loss = 0.0\n",
        "    lamda = 3.0\n",
        "\n",
        "    # batch iteration\n",
        "    for i in range(pred_1d.shape[0]):\n",
        "\n",
        "        grid_loss = 0.0\n",
        "        pred_matrix = pred_1d[i]\n",
        "\n",
        "        p = tf.cast( tf.reshape( pred_matrix , (-1, 25) ) , dtype=tf.float64 )\n",
        "        y = tf.reshape( y_batch[i] , (-1,25) )\n",
        "\n",
        "        for grid_num in range( p.shape[0] ):\n",
        "            \n",
        "            ol = tf.math.square( y[grid_num][0] - p[grid_num][0] )\n",
        "            l1 = tf.math.square( y[grid_num][1] - p[grid_num][1] )\n",
        "            l2 = tf.math.square( y[grid_num][2] - p[grid_num][2] )\n",
        "            l3 = tf.math.square( y[grid_num][3] - p[grid_num][3] )\n",
        "            l4 = tf.math.square( y[grid_num][4] - p[grid_num][4] )\n",
        "            class_loss =  tf.reduce_sum( tf.math.square( y[grid_num][5:] - p[grid_num][5:] ) )   \n",
        "            # class_loss =  tf.keras.losses.SparseCategoricalCrossentropy( tf.y[grid_num][5:] , p[grid_num][5:] )   \n",
        "\n",
        "            loss = ol+4.0*y[grid_num][0]*(l1+l2+l3+l4)+ class_loss\n",
        "\n",
        "            grid_loss = grid_loss + loss\n",
        "\n",
        "        print(\"Image Loss ==={}\".format(grid_loss) )\n",
        "\n",
        "        batch_loss = batch_loss+grid_loss\n",
        "    \n",
        "    return batch_loss\n",
        "\n",
        "optimizer = tf.keras.optimizers.RMSprop(l_rate)\n",
        "mean = tf.keras.metrics.Mean()\n",
        "ctr = 0\n",
        "# ******************\n",
        "\n",
        "with tf.device('/device:GPU:0'):\n",
        "  \n",
        "  for e in range(epochs):\n",
        "\n",
        "    offset = 0\n",
        "    ctr=0\n",
        "\n",
        "    mean.reset_states()\n",
        "    \n",
        "    for n in range(num_of_batches):\n",
        "\n",
        "      imgs,labels = data_generator( 1 )\n",
        "      y_feed_label = get_feed_label(labels)\n",
        "\n",
        "      stack_y=[] \n",
        "      for i in range(y_feed_label.shape[0]):\n",
        "        stack_y.append( np.hstack(y_feed_label[i]) )\n",
        "\n",
        "      x_batch = tf.convert_to_tensor(imgs)\n",
        "      y_batch = tf.convert_to_tensor(stack_y)\n",
        "\n",
        "      with tf.GradientTape() as tape:\n",
        "          pred = model(x_batch)\n",
        "\n",
        "          cost = cost_fn( y_batch, pred )\n",
        "          mean.update_state(cost)\n",
        "\n",
        "      grads = tape.gradient( cost ,model.trainable_variables)\n",
        "      optimizer.apply_gradients( zip(grads,model.trainable_variables) )\n",
        "\n",
        "      if ctr%10==0:\n",
        "          print(\"Loss  ====>  {}\".format(mean.result()))\n",
        "          \n",
        "      ctr = ctr+1 \n",
        "\n",
        "    print(\"Epoch {}  ====>  {}\".format(e,mean.result()))\n"
      ],
      "execution_count": null,
      "outputs": []
    },
    {
      "cell_type": "code",
      "metadata": {
        "id": "Cyike0_rwtKg"
      },
      "source": [
        "model.trainable_variables"
      ],
      "execution_count": null,
      "outputs": []
    },
    {
      "cell_type": "code",
      "metadata": {
        "id": "yoyXHUExTBdX"
      },
      "source": [
        "model.save('yolo.h5')"
      ],
      "execution_count": null,
      "outputs": []
    },
    {
      "cell_type": "code",
      "metadata": {
        "id": "wzDNWhN3UrjL"
      },
      "source": [
        "def pred_one(one_img):\n",
        "\n",
        "    # img of 4 dims\n",
        "    pred = model( one_img )\n",
        "    print( pred )\n",
        "    pred_mat = np.reshape( pred , (-1, 25))\n",
        "    \n",
        "    img_arr = np.array( one_img[0] )\n",
        "    figure, ax = pyplot.subplots(1)\n",
        "    ax.imshow(img_arr)\n",
        "\n",
        "    print( pred_mat.shape )\n",
        "    rect = []\n",
        "\n",
        "    for each_grid in pred_mat:\n",
        "\n",
        "        if each_grid[0]>0.5:\n",
        "\n",
        "          x_max = each_grid[1]\n",
        "          x_min = each_grid[2]\n",
        "          y_max = each_grid[3]\n",
        "          y_min = each_grid[4]\n",
        "\n",
        "          print((x_max,x_min,y_max,y_min))\n",
        "          print((x_max*224,x_min*224,y_max*224,y_min*224))\n",
        "          \n",
        "          print(each_grid)\n",
        "          class_int = np.argmax( each_grid[5:] )\n",
        "          print( \"class is === >  {}\".format(class_int) )\n",
        "\n",
        "          start_x,start_y = x_min*224,y_min*224\n",
        "          w = (x_max*224) - (x_min*224)\n",
        "          h = (y_max*224) - (y_min*224)\n",
        "          ax.add_patch( patches.Rectangle((start_x,start_y),w,h, edgecolor='r', facecolor=\"none\") )\n",
        "\n",
        "    return"
      ],
      "execution_count": null,
      "outputs": []
    },
    {
      "cell_type": "code",
      "metadata": {
        "id": "yO4Yf-c2jueB"
      },
      "source": [
        "offset=0\n",
        "imgs,labels = data_generator(10)\n",
        "single_img = np.expand_dims( imgs[8] , 0 )\n",
        "pred_one(single_img)"
      ],
      "execution_count": null,
      "outputs": []
    }
  ]
}